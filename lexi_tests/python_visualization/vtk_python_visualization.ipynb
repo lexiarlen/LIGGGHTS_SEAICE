{
 "cells": [
  {
   "cell_type": "code",
   "execution_count": 1,
   "metadata": {},
   "outputs": [],
   "source": [
    "import vtk\n",
    "import glob"
   ]
  },
  {
   "cell_type": "code",
   "execution_count": 2,
   "metadata": {},
   "outputs": [],
   "source": [
    "path = r\"\\\\wsl$\\Ubuntu-18.04\\home\\arlenlex\\LIGGGHTS_SEAICE\\lexi_tests\\bond_tension\\post\""
   ]
  },
  {
   "cell_type": "code",
   "execution_count": 3,
   "metadata": {},
   "outputs": [],
   "source": [
    "test_file = sorted(glob.glob(path + r'\\*.liggghts'))[3]"
   ]
  },
  {
   "cell_type": "code",
   "execution_count": null,
   "metadata": {},
   "outputs": [],
   "source": [
    "def read_liggghts_dump(filename):\n",
    "    \"\"\"\n",
    "    Reads a LIGGGHTS dump file and extracts particle data.\n",
    "    Returns numpy arrays of particle positions and radii.\n",
    "    \"\"\"\n",
    "    positions = []\n",
    "    radii = []\n",
    "    with open(filename, 'r') as f:\n",
    "        lines = f.readlines()\n",
    "        data_started = False\n",
    "        for line in lines:\n",
    "            if line.startswith('ITEM: ATOMS'):\n",
    "                data_started = True\n",
    "                continue\n",
    "            if data_started:\n",
    "                parts = line.split()\n",
    "                # Adjust indices based on your file format\n",
    "                x, y, z = float(parts[2]), float(parts[3]), float(parts[4])\n",
    "                radius = float(parts[-1])  # Assuming the radius is the last column\n",
    "                positions.append([x, y, z])\n",
    "                radii.append(radius)\n",
    "    return np.array(positions), np.array(radii)\n",
    "\n",
    "def visualize_particles(positions, radii):\n",
    "    \"\"\"\n",
    "    Visualizes particles using VTK.\n",
    "    \"\"\"\n",
    "    # Create a vtkPoints object to store particle positions\n",
    "    vtk_points = vtk.vtkPoints()\n",
    "    for pos in positions:\n",
    "        vtk_points.InsertNextPoint(pos)\n",
    "    \n",
    "    # Create a vtkPolyData object to store points data\n",
    "    poly_data = vtk.vtkPolyData()\n",
    "    poly_data.SetPoints(vtk_points)\n",
    "    \n",
    "    # Create spheres at each point\n",
    "    glyph_source = vtk.vtkSphereSource()\n",
    "    glyph_source.SetRadius(1.0)\n",
    "    glyph = vtk.vtkGlyph3D()\n",
    "    glyph.SetSourceConnection(glyph_source.GetOutputPort())\n",
    "    glyph.SetInputData(poly_data)\n",
    "    glyph.SetScaleModeToScaleByScalar()\n",
    "    glyph.SetScaleFactor(1.0)\n",
    "    \n",
    "    # Map radii to glyphs\n",
    "    radii_vtk = vtk.vtkFloatArray()\n",
    "    radii_vtk.SetName(\"radii\")\n",
    "    for radius in radii:\n",
    "        radii_vtk.InsertNextValue(radius)\n",
    "    poly_data.GetPointData().SetScalars(radii_vtk)\n",
    "    \n",
    "    glyph_mapper = vtk.vtkPolyDataMapper()\n",
    "    glyph_mapper.SetInputConnection(glyph.GetOutputPort())\n",
    "    \n",
    "    actor = vtk.vtkActor()\n",
    "    actor.SetMapper(glyph_mapper)\n",
    "    \n",
    "    # Create a renderer, render window, and interactor\n",
    "    renderer = vtk.vtkRenderer()\n",
    "    render_window = vtk.vtkRenderWindow()\n",
    "    render_window.AddRenderer(renderer)\n",
    "    render_window_interactor = vtk.vtkRenderWindowInteractor()\n",
    "    render_window_interactor.SetRenderWindow(render_window)\n",
    "    \n",
    "    # Add the actor to the scene\n",
    "    renderer.AddActor(actor)\n",
    "    renderer.SetBackground(0.1, 0.2, 0.4)  # Background color\n",
    "    \n",
    "    # Render and interact\n",
    "    render_window.Render()\n",
    "    render_window_interactor.Start()\n",
    "\n",
    "# Main function to read the dump file and visualize particles\n",
    "if __name__ == \"__main__\":\n",
    "    filename = test_file\n",
    "    positions, radii = read_liggghts_dump(filename)\n",
    "    visualize_particles(positions, radii)"
   ]
  },
  {
   "cell_type": "code",
   "execution_count": null,
   "metadata": {},
   "outputs": [],
   "source": []
  }
 ],
 "metadata": {
  "kernelspec": {
   "display_name": "vtk",
   "language": "python",
   "name": "python3"
  },
  "language_info": {
   "codemirror_mode": {
    "name": "ipython",
    "version": 3
   },
   "file_extension": ".py",
   "mimetype": "text/x-python",
   "name": "python",
   "nbconvert_exporter": "python",
   "pygments_lexer": "ipython3",
   "version": "3.12.5"
  }
 },
 "nbformat": 4,
 "nbformat_minor": 2
}
